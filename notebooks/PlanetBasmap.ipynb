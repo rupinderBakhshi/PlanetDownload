{
 "cells": [
  {
   "cell_type": "code",
   "execution_count": 3,
   "metadata": {},
   "outputs": [
    {
     "name": "stdout",
     "output_type": "stream",
     "text": [
      "https://api.planet.com/basemaps/v1/mosaics\n"
     ]
    }
   ],
   "source": [
    "import requests\n",
    "#import config\n",
    "import os\n",
    "\n",
    "os.environ['PL_API_KEY']='917933fc5d9f41ea8f7597985e73034d'\n",
    "\n",
    "# setup the API key from the 'PL_API_KEY' environment variable\n",
    "PLANET_API_KEY= os.getenv('PL_API_KEY')\n",
    "\n",
    "# import helper modules\n",
    "import json\n",
    "import requests\n",
    "\n",
    "# Helper function to printformatted JSON using the json module\n",
    "def p(data):\n",
    "    print(json.dumps(data,indent=2))\n",
    "\n",
    "\n",
    "\n",
    "#Setip Planet Data API base URL\n",
    "URL= \"https://api.planet.com/basemaps/v1/mosaics\"\n",
    "\n",
    "#setup the session\n",
    "session= requests.Session()\n",
    "\n",
    "#Authenticate\n",
    "session.auth= (PLANET_API_KEY,\"\")\n",
    "print(URL)"
   ]
  },
  {
   "cell_type": "code",
   "execution_count": 4,
   "metadata": {},
   "outputs": [
    {
     "name": "stdout",
     "output_type": "stream",
     "text": [
      "200\n"
     ]
    }
   ],
   "source": [
    "#set params for search using name of mosaic\n",
    "parameters = {\n",
    "    \"name__is\" :\"planet_medres_normalized_analytic_2020-10_mosaic\" # <= customize to your use case\n",
    "}\n",
    "#make get request to access mosaic from basemaps API\n",
    "res = session.get(URL, params = parameters)\n",
    "#response status code\n",
    "print(res.status_code)"
   ]
  },
  {
   "cell_type": "code",
   "execution_count": 5,
   "metadata": {},
   "outputs": [
    {
     "name": "stdout",
     "output_type": "stream",
     "text": [
      "{\n",
      "  \"_links\": {\n",
      "    \"_self\": \"https://api.planet.com/basemaps/v1/mosaics?api_key=917933fc5d9f41ea8f7597985e73034d\"\n",
      "  },\n",
      "  \"mosaics\": [\n",
      "    {\n",
      "      \"_links\": {\n",
      "        \"_self\": \"https://api.planet.com/basemaps/v1/mosaics/943d4604-7237-4f4f-9548-bb41f9db8254?api_key=917933fc5d9f41ea8f7597985e73034d\",\n",
      "        \"quads\": \"https://api.planet.com/basemaps/v1/mosaics/943d4604-7237-4f4f-9548-bb41f9db8254/quads?api_key=917933fc5d9f41ea8f7597985e73034d&bbox={lx},{ly},{ux},{uy}\",\n",
      "        \"tiles\": \"https://tiles.planet.com/basemaps/v1/planet-tiles/planet_medres_normalized_analytic_2020-10_mosaic/gmap/{z}/{x}/{y}.png?api_key=917933fc5d9f41ea8f7597985e73034d\"\n",
      "      },\n",
      "      \"bbox\": [\n",
      "        -179.999999974944,\n",
      "        -30.145127179527,\n",
      "        179.999999975056,\n",
      "        30.145127179625\n",
      "      ],\n",
      "      \"coordinate_system\": \"EPSG:3857\",\n",
      "      \"datatype\": \"uint16\",\n",
      "      \"first_acquired\": \"2020-10-01T00:00:00.000Z\",\n",
      "      \"grid\": {\n",
      "        \"quad_size\": 4096,\n",
      "        \"resolution\": 4.777314267823516\n",
      "      },\n",
      "      \"id\": \"943d4604-7237-4f4f-9548-bb41f9db8254\",\n",
      "      \"interval\": \"1 mon\",\n",
      "      \"item_types\": [\n",
      "        \"PSScene4Band\"\n",
      "      ],\n",
      "      \"last_acquired\": \"2020-11-01T00:00:00.000Z\",\n",
      "      \"level\": 15,\n",
      "      \"name\": \"planet_medres_normalized_analytic_2020-10_mosaic\",\n",
      "      \"product_type\": \"timelapse\",\n",
      "      \"quad_download\": true\n",
      "    }\n",
      "  ]\n",
      "}\n"
     ]
    }
   ],
   "source": [
    "#print metadata for mosaic\n",
    "mosaic = res.json()\n",
    "print(json.dumps(mosaic, indent=2))"
   ]
  },
  {
   "cell_type": "code",
   "execution_count": 6,
   "metadata": {},
   "outputs": [
    {
     "name": "stdout",
     "output_type": "stream",
     "text": [
      "Mosaic id: 943d4604-7237-4f4f-9548-bb41f9db8254\n",
      "Mosaic bbox: -179.999999974944,-30.145127179527,179.999999975056,30.145127179625\n"
     ]
    }
   ],
   "source": [
    "#get id\n",
    "mosaic_id = mosaic['mosaics'][0]['id']\n",
    "#get bbox for entire mosaic\n",
    "mosaic_bbox = mosaic['mosaics'][0]['bbox']\n",
    "#converting bbox to string for search params\n",
    "string_bbox = ','.join(map(str, mosaic_bbox))\n",
    "\n",
    "print('Mosaic id: '+ mosaic_id)\n",
    "print('Mosaic bbox: '+ string_bbox)"
   ]
  },
  {
   "cell_type": "code",
   "execution_count": 9,
   "metadata": {},
   "outputs": [],
   "source": [
    "geometry_filter ={\n",
    "    \"type\": \"GeometryFilter\",\n",
    "    \"field_name\": \"geometry\",\n",
    "    \"config\": {\n",
    "        \"type\":\"Polygon\",\n",
    "     \n",
    "\"coordinates\":[\n",
    "    [\n",
    "        [\n",
    "            80.383265,22.458656\n",
    "        ],\n",
    "        [\n",
    "            81.231959,22.497359\n",
    "        ],\n",
    "        [\n",
    "            81.091196,22.081849\n",
    "        ],\n",
    "        [\n",
    "            80.344126,22.092029\n",
    "        ],\n",
    "        [\n",
    "            80.383265,22.458656\n",
    "        ]\n",
    "    ]\n",
    "]\n",
    "    }\n",
    "}\n",
    "\n",
    "strbb= [81.091196,22.081849,80.383265,22.497359]"
   ]
  },
  {
   "cell_type": "code",
   "execution_count": 10,
   "metadata": {},
   "outputs": [
    {
     "name": "stdout",
     "output_type": "stream",
     "text": [
      "400\n"
     ]
    }
   ],
   "source": [
    "#search for mosaic quad using AOI\n",
    "search_parameters = {\n",
    "    'bbox': str,\n",
    "    'minimal': True\n",
    "}\n",
    "#accessing quads using metadata from mosaic\n",
    "quads_url = \"{}/{}/quads\".format(URL, mosaic_id)\n",
    "res = session.get(quads_url, params=search_parameters, stream=True)\n",
    "print(res.status_code)"
   ]
  },
  {
   "cell_type": "code",
   "execution_count": null,
   "metadata": {},
   "outputs": [],
   "source": []
  }
 ],
 "metadata": {
  "kernelspec": {
   "display_name": "Python 3",
   "language": "python",
   "name": "python3"
  },
  "language_info": {
   "codemirror_mode": {
    "name": "ipython",
    "version": 3
   },
   "file_extension": ".py",
   "mimetype": "text/x-python",
   "name": "python",
   "nbconvert_exporter": "python",
   "pygments_lexer": "ipython3",
   "version": "3.6.9"
  }
 },
 "nbformat": 4,
 "nbformat_minor": 2
}

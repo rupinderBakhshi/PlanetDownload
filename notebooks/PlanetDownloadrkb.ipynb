{
 "cells": [
  {
   "cell_type": "code",
   "execution_count": 3,
   "metadata": {},
   "outputs": [],
   "source": [
    "# import th os module in order to access environment variables\n",
    "import os\n",
    "\n",
    "os.environ['PL_API_KEY']='917933fc5d9f41ea8f7597985e73034d'\n",
    "\n",
    "# setup the API key from the 'PL_API_KEY' environment variable\n",
    "PLANET_API_KEY= os.getenv('PL_API_KEY')"
   ]
  },
  {
   "cell_type": "code",
   "execution_count": 4,
   "metadata": {},
   "outputs": [],
   "source": [
    "# import helper modules\n",
    "import json\n",
    "import requests"
   ]
  },
  {
   "cell_type": "code",
   "execution_count": 5,
   "metadata": {},
   "outputs": [],
   "source": [
    "# Helper function to printformatted JSON using the json module\n",
    "def p(data):\n",
    "    print(json.dumps(data,indent=2))"
   ]
  },
  {
   "cell_type": "code",
   "execution_count": 7,
   "metadata": {},
   "outputs": [
    {
     "name": "stdout",
     "output_type": "stream",
     "text": [
      "https://api.planet.com/data/v1\n"
     ]
    }
   ],
   "source": [
    "#Setip Planet Data API base URL\n",
    "URL= \"https://api.planet.com/data/v1\"\n",
    "\n",
    "#setup the session\n",
    "session= requests.Session()\n",
    "\n",
    "#Authenticate\n",
    "session.auth= (PLANET_API_KEY,\"\")\n",
    "print(URL)"
   ]
  },
  {
   "cell_type": "code",
   "execution_count": 9,
   "metadata": {},
   "outputs": [],
   "source": [
    "#Make a GET request to Planet Data API\n",
    "res= session.get(URL)"
   ]
  },
  {
   "cell_type": "code",
   "execution_count": 10,
   "metadata": {},
   "outputs": [
    {
     "data": {
      "text/plain": [
       "200"
      ]
     },
     "execution_count": 10,
     "metadata": {},
     "output_type": "execute_result"
    }
   ],
   "source": [
    "#Response status code \n",
    "\n",
    "res.status_code # 200 code means everything is ok"
   ]
  },
  {
   "cell_type": "code",
   "execution_count": 11,
   "metadata": {},
   "outputs": [
    {
     "data": {
      "text/plain": [
       "'{\"_links\": {\"_self\": \"https://api.planet.com/data/v1/\", \"asset-types\": \"https://api.planet.com/data/v1/asset-types/\", \"item-types\": \"https://api.planet.com/data/v1/item-types/\", \"spec\": \"https://api.planet.com/data/v1/spec\"}}'"
      ]
     },
     "execution_count": 11,
     "metadata": {},
     "output_type": "execute_result"
    }
   ],
   "source": [
    "# Response body\n",
    "res.text"
   ]
  },
  {
   "cell_type": "code",
   "execution_count": 12,
   "metadata": {},
   "outputs": [
    {
     "name": "stdout",
     "output_type": "stream",
     "text": [
      "{\n",
      "  \"_links\": {\n",
      "    \"_self\": \"https://api.planet.com/data/v1/\",\n",
      "    \"asset-types\": \"https://api.planet.com/data/v1/asset-types/\",\n",
      "    \"item-types\": \"https://api.planet.com/data/v1/item-types/\",\n",
      "    \"spec\": \"https://api.planet.com/data/v1/spec\"\n",
      "  }\n",
      "}\n"
     ]
    }
   ],
   "source": [
    "#Print formatted JSON response\n",
    "p(res.json())"
   ]
  },
  {
   "cell_type": "code",
   "execution_count": 13,
   "metadata": {},
   "outputs": [
    {
     "name": "stdout",
     "output_type": "stream",
     "text": [
      "https://api.planet.com/data/v1/item-types/\n"
     ]
    }
   ],
   "source": [
    "# Print the value of the item-types key from _links\n",
    "print(res.json()[\"_links\"][\"item-types\"])"
   ]
  },
  {
   "cell_type": "code",
   "execution_count": 14,
   "metadata": {},
   "outputs": [
    {
     "name": "stdout",
     "output_type": "stream",
     "text": [
      "https://api.planet.com/data/v1/stats\n"
     ]
    }
   ],
   "source": [
    "# the / stats endpoint provides a summary of the available data based on some search criteria\n",
    "#setup the stats URL\n",
    "stats_url= \"{}/stats\".format(URL)\n",
    "\n",
    "#print the stats URL\n",
    "print(stats_url)"
   ]
  },
  {
   "cell_type": "code",
   "execution_count": 22,
   "metadata": {},
   "outputs": [
    {
     "name": "stdout",
     "output_type": "stream",
     "text": [
      "['PSScene4Band']\n"
     ]
    }
   ],
   "source": [
    "# USing a search filter\n",
    "# search filters shoud have the following properties:\n",
    "# Type: type of the filter being used\n",
    "# Configuration of the filter\n",
    "# Field name : field on which to filter\n",
    "item_types= [\"PSScene4Band\"]\n",
    "print(item_types)"
   ]
  },
  {
   "cell_type": "code",
   "execution_count": 25,
   "metadata": {},
   "outputs": [],
   "source": [
    "date_filter= {\n",
    "    \"type\": \"DateRangeFilter\",\n",
    "    \"field_name\": 'acquired',\n",
    "    \"config\":{\n",
    "        \"gte\": \"2020-10-01T00:00:00.000Z\",\n",
    "        \"lte\": \"2020-12-01T00:00:00.000Z\"\n",
    "    }\n",
    "}\n",
    "\n",
    "geometry_filter ={\n",
    "    \"type\": \"GeometryFilter\",\n",
    "    \"field_name\": \"geometry\",\n",
    "    \"config\": {\n",
    "        \"type\":\"Polygon\",\n",
    "     \n",
    "\"coordinates\":[\n",
    "    [\n",
    "        [\n",
    "            80.383265,22.458656\n",
    "        ],\n",
    "        [\n",
    "            81.231959,22.497359\n",
    "        ],\n",
    "        [\n",
    "            81.091196,22.081849\n",
    "        ],\n",
    "        [\n",
    "            80.344126,22.092029\n",
    "        ],\n",
    "        [\n",
    "            80.383265,22.458656\n",
    "        ]\n",
    "    ]\n",
    "]\n",
    "    }\n",
    "}\n",
    "\n"
   ]
  },
  {
   "cell_type": "code",
   "execution_count": 27,
   "metadata": {},
   "outputs": [
    {
     "name": "stdout",
     "output_type": "stream",
     "text": [
      "{\n",
      "  \"buckets\": [\n",
      "    {\n",
      "      \"count\": 578,\n",
      "      \"start_time\": \"2020-10-01T00:00:00.000000Z\"\n",
      "    },\n",
      "    {\n",
      "      \"count\": 781,\n",
      "      \"start_time\": \"2020-11-01T00:00:00.000000Z\"\n",
      "    }\n",
      "  ],\n",
      "  \"interval\": \"month\",\n",
      "  \"utc_offset\": \"+0h\"\n",
      "}\n"
     ]
    }
   ],
   "source": [
    "\n",
    "and_filter= {\n",
    "    \"type\": \"AndFilter\",\n",
    "    \"config\": [date_filter,geometry_filter]\n",
    "}\n",
    "#construct the request\n",
    "request= {\n",
    "    \"item_types\": item_types,\n",
    "    \"interval\": \"month\",\n",
    "    \"filter\": and_filter\n",
    "}\n",
    "\n",
    "# Send the POST request to the API stats endpoint\n",
    "res= session.post(stats_url, json=request)\n",
    "\n",
    "# Print request\n",
    "p(res.json())"
   ]
  },
  {
   "cell_type": "code",
   "execution_count": null,
   "metadata": {},
   "outputs": [],
   "source": []
  }
 ],
 "metadata": {
  "kernelspec": {
   "display_name": "Python 3",
   "language": "python",
   "name": "python3"
  },
  "language_info": {
   "codemirror_mode": {
    "name": "ipython",
    "version": 3
   },
   "file_extension": ".py",
   "mimetype": "text/x-python",
   "name": "python",
   "nbconvert_exporter": "python",
   "pygments_lexer": "ipython3",
   "version": "3.6.9"
  }
 },
 "nbformat": 4,
 "nbformat_minor": 2
}
